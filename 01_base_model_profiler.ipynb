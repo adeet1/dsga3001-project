{
 "cells": [
  {
   "cell_type": "code",
   "execution_count": 1,
   "metadata": {},
   "outputs": [],
   "source": [
    "import numpy as np\n",
    "import pandas as pd\n",
    "from sklearn.datasets import make_classification, make_gaussian_quantiles, make_moons, make_blobs\n",
    "import matplotlib.pyplot as plt\n",
    "import time\n",
    "from sklearn.linear_model import LogisticRegression\n",
    "%load_ext line_profiler"
   ]
  },
  {
   "cell_type": "markdown",
   "metadata": {},
   "source": [
    "## sklearn data"
   ]
  },
  {
   "cell_type": "code",
   "execution_count": 2,
   "metadata": {},
   "outputs": [],
   "source": [
    "#easy to separate\n",
    "samp = 100000\n",
    "X1, y1 = make_blobs(n_samples = samp, centers = 2, n_features=2, random_state=42)"
   ]
  },
  {
   "cell_type": "code",
   "execution_count": 3,
   "metadata": {},
   "outputs": [],
   "source": [
    "def plot_data(X, y):\n",
    "    fig, ax = plt.subplots(figsize = (8,6))\n",
    "    X1 = X[:, 0][y==0]\n",
    "    y1 = X[:, 1][y==0]\n",
    "    X2 = X[:, 0][y==1]\n",
    "    y2 = X[:, 1][y==1]\n",
    "    plt.plot(X1, y1, 'o')\n",
    "    plt.plot(X2, y2, '^')"
   ]
  },
  {
   "cell_type": "code",
   "execution_count": 4,
   "metadata": {},
   "outputs": [
    {
     "data": {
      "image/png": "[encoded data removed]",
      "text/plain": [
       "<Figure size 576x432 with 1 Axes>"
      ]
     },
     "metadata": {
      "needs_background": "light"
     },
     "output_type": "display_data"
    }
   ],
   "source": [
    "plot_data(X1, y1)"
   ]
  },
  {
   "cell_type": "code",
   "execution_count": 5,
   "metadata": {},
   "outputs": [],
   "source": [
    "#slightly harder to separate\n",
    "X2, y2 = make_moons(n_samples = samp, noise = .75, random_state = 42)"
   ]
  },
  {
   "cell_type": "code",
   "execution_count": 6,
   "metadata": {},
   "outputs": [
    {
     "data": {
      "image/png": "[encoded data removed]",
      "text/plain": [
       "<Figure size 576x432 with 1 Axes>"
      ]
     },
     "metadata": {
      "needs_background": "light"
     },
     "output_type": "display_data"
    }
   ],
   "source": [
    "plot_data(X2, y2)"
   ]
  },
  {
   "cell_type": "code",
   "execution_count": 7,
   "metadata": {},
   "outputs": [],
   "source": [
    "#extreme hard case\n",
    "X3, y3 = make_gaussian_quantiles(n_samples = samp, n_features=2, n_classes=2, random_state = 42)"
   ]
  },
  {
   "cell_type": "code",
   "execution_count": 8,
   "metadata": {},
   "outputs": [
    {
     "data": {
      "image/png": "[encoded data removed]",
      "text/plain": [
       "<Figure size 576x432 with 1 Axes>"
      ]
     },
     "metadata": {
      "needs_background": "light"
     },
     "output_type": "display_data"
    }
   ],
   "source": [
    "plot_data(X3, y3)"
   ]
  },
  {
   "cell_type": "markdown",
   "metadata": {},
   "source": [
    "## Algorithm"
   ]
  },
  {
   "cell_type": "code",
   "execution_count": 9,
   "metadata": {},
   "outputs": [],
   "source": [
    "def sigmoid(z):\n",
    "    return 1.0/(1 + np.exp(-z))"
   ]
  },
  {
   "cell_type": "code",
   "execution_count": 10,
   "metadata": {},
   "outputs": [],
   "source": [
    "def loss(w, X, y):\n",
    "    margin = np.dot(X, w)\n",
    "    l_if_pos = -np.logaddexp(0, -margin) * y\n",
    "    l_if_neg = -np.logaddexp(0, margin) * (1 - y)\n",
    "    \n",
    "    l = -(l_if_pos + l_if_neg)\n",
    "    \n",
    "    return np.sum(l)"
   ]
  },
  {
   "cell_type": "code",
   "execution_count": 11,
   "metadata": {},
   "outputs": [],
   "source": [
    "def gradients(X, y, y_hat):\n",
    "    m = X.shape[0]\n",
    "    \n",
    "    # Gradient of loss w.r.t weights\n",
    "    dw = (1/m)*np.dot(X.T, (y_hat - y))\n",
    "    \n",
    "    # Gradient of loss w.r.t bias\n",
    "    db = (1/m)*np.sum((y_hat - y)) \n",
    "    \n",
    "    return dw, db\n"
   ]
  },
  {
   "cell_type": "code",
   "execution_count": 12,
   "metadata": {},
   "outputs": [],
   "source": [
    "def normalize(X): \n",
    "    m, n = X.shape\n",
    "    X = (X - X.mean(axis=0))/X.std(axis=0)\n",
    "        \n",
    "    return X"
   ]
  },
  {
   "cell_type": "code",
   "execution_count": 13,
   "metadata": {},
   "outputs": [],
   "source": [
    "def train(X, y, bs, epochs, lr):\n",
    "    m, n = X.shape\n",
    "    \n",
    "    # Initializing weights and bias to zeros.\n",
    "    w = np.zeros((n,1))\n",
    "    b = 0\n",
    "    \n",
    "    # Reshape y.\n",
    "    y = y.reshape(m,1)\n",
    "    \n",
    "    # Normalize inputs\n",
    "    x = normalize(X)\n",
    "    \n",
    "    # Store losses\n",
    "    losses = []\n",
    "    \n",
    "    # Train\n",
    "    for epoch in range(epochs):\n",
    "        for i in range((m-1)//bs + 1):\n",
    "            \n",
    "            # Defining batches for SGD (this can be changed)\n",
    "            start_i = i*bs\n",
    "            end_i = start_i + bs\n",
    "            xb = x[start_i:end_i]\n",
    "            yb = y[start_i:end_i]\n",
    "            \n",
    "            # Predict\n",
    "            y_hat = sigmoid(np.dot(xb, w) + b)\n",
    "            \n",
    "            # Calculate gradients\n",
    "            dw, db = gradients(xb, yb, y_hat)\n",
    "            \n",
    "            # Update params\n",
    "            w -= lr*dw\n",
    "            b -= lr*db\n",
    "        \n",
    "        # Calc loss\n",
    "        l = loss(w, x, y)\n",
    "        losses.append(l)\n",
    "        \n",
    "    return w, b, losses"
   ]
  },
  {
   "cell_type": "code",
   "execution_count": 14,
   "metadata": {},
   "outputs": [],
   "source": [
    "def predict(X, w, b):\n",
    "    \n",
    "    # X --> Input.\n",
    "    \n",
    "    # Normalizing the inputs.\n",
    "    x = normalize(X)\n",
    "    \n",
    "    # Calculating presictions/y_hat.\n",
    "    preds = sigmoid(np.dot(X, w) + b)\n",
    "    \n",
    "    # if y_hat >= 0.5 --> round up to 1\n",
    "    # if y_hat < 0.5 --> round up to 1\n",
    "    pred_class = [1 if i > 0.5 else 0 for i in preds]\n",
    "    \n",
    "    return np.array(pred_class)"
   ]
  },
  {
   "cell_type": "code",
   "execution_count": 15,
   "metadata": {},
   "outputs": [],
   "source": [
    "def accuracy(y, y_hat):\n",
    "    accuracy = np.sum(y == y_hat) / len(y)\n",
    "    return accuracy"
   ]
  },
  {
   "cell_type": "code",
   "execution_count": 16,
   "metadata": {},
   "outputs": [],
   "source": [
    "def compare(X, y):\n",
    "    # Training \n",
    "    start1 = time.time()\n",
    "    w, b, l = train(X, y, bs=100, epochs=1000, lr=0.001)\n",
    "    pred = predict(X, w, b)\n",
    "    acc = accuracy(y, pred)\n",
    "    end1 = time.time()\n",
    "    print(f'Time to run our logistic regression: {end1 - start1} s')\n",
    "    print(f'Accuracy of our logistic regression: {acc}')\n",
    "    \n",
    "    \n",
    "    start2 = time.time()\n",
    "    lr = LogisticRegression()\n",
    "    lr.fit(X, y)\n",
    "    sk_acc = lr.score(X, y)\n",
    "    end2 = time.time()\n",
    "    print(f'Time to run Sklearn implementation {end2 - start2} s')\n",
    "    print(f'Accuracy of Sklearn implementation: {sk_acc}')\n",
    "    \n",
    "    print(f'\\nDifference in accuracies: {np.abs(acc-sk_acc)}')\n",
    "    \n",
    "    return w"
   ]
  },
  {
   "cell_type": "code",
   "execution_count": 17,
   "metadata": {
    "scrolled": true
   },
   "outputs": [
    {
     "name": "stdout",
     "output_type": "stream",
     "text": [
      "Time to run our logistic regression: 0.053503990173339844 s\n",
      "Accuracy of our logistic regression: 0.99\n",
      "Time to run Sklearn implementation 0.004835844039916992 s\n",
      "Accuracy of Sklearn implementation: 1.0\n",
      "\n",
      "Difference in accuracies: 0.010000000000000009\n"
     ]
    }
   ],
   "source": [
    "w1 = compare(X1, y1)"
   ]
  },
  {
   "cell_type": "code",
   "execution_count": null,
   "metadata": {},
   "outputs": [],
   "source": [
    "%lprun -f compare w1 = compare(X1, y1)"
   ]
  },
  {
   "cell_type": "code",
   "execution_count": 18,
   "metadata": {},
   "outputs": [
    {
     "name": "stdout",
     "output_type": "stream",
     "text": [
      "Time to run our logistic regression: 0.06345725059509277 s\n",
      "Accuracy of our logistic regression: 0.75\n",
      "Time to run Sklearn implementation 0.003736734390258789 s\n",
      "Accuracy of Sklearn implementation: 0.76\n",
      "\n",
      "Difference in accuracies: 0.010000000000000009\n"
     ]
    }
   ],
   "source": [
    "w2 = compare(X2, y2)"
   ]
  },
  {
   "cell_type": "code",
   "execution_count": null,
   "metadata": {},
   "outputs": [],
   "source": [
    "%lprun -f compare w2 = compare(X2, y2)"
   ]
  },
  {
   "cell_type": "code",
   "execution_count": 19,
   "metadata": {},
   "outputs": [
    {
     "name": "stdout",
     "output_type": "stream",
     "text": [
      "Time to run our logistic regression: 0.06667590141296387 s\n",
      "Accuracy of our logistic regression: 0.51\n",
      "Time to run Sklearn implementation 0.0036568641662597656 s\n",
      "Accuracy of Sklearn implementation: 0.51\n",
      "\n",
      "Difference in accuracies: 0.0\n"
     ]
    }
   ],
   "source": [
    "w3 = compare(X3, y3)"
   ]
  },
  {
   "cell_type": "code",
   "execution_count": null,
   "metadata": {},
   "outputs": [],
   "source": [
    "%lprun -f compare w3 = compare(X3, y3)"
   ]
  }
 ],
 "metadata": {
  "kernelspec": {
   "display_name": "Python 3",
   "language": "python",
   "name": "python3"
  },
  "language_info": {
   "codemirror_mode": {
    "name": "ipython",
    "version": 3
   },
   "file_extension": ".py",
   "mimetype": "text/x-python",
   "name": "python",
   "nbconvert_exporter": "python",
   "pygments_lexer": "ipython3",
   "version": "3.8.8"
  }
 },
 "nbformat": 4,
 "nbformat_minor": 4
}
