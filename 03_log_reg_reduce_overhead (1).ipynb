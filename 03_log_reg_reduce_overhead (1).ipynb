{
 "cells": [
  {
   "cell_type": "code",
   "execution_count": 1,
   "metadata": {},
   "outputs": [],
   "source": [
    "import numpy as np\n",
    "import pandas as pd\n",
    "from sklearn.datasets import make_classification, make_gaussian_quantiles, make_moons, make_blobs\n",
    "import matplotlib.pyplot as plt\n",
    "import time\n",
    "from sklearn.linear_model import LogisticRegression\n",
    "%load_ext line_profiler"
   ]
  },
  {
   "cell_type": "code",
   "execution_count": 2,
   "metadata": {},
   "outputs": [],
   "source": [
    "#easy to separate\n",
    "samp = 100000\n",
    "X1, y1 = make_blobs(n_samples = samp, centers = 2, n_features=2, random_state=42)                                                                  "
   ]
  },
  {
   "cell_type": "code",
   "execution_count": 3,
   "metadata": {},
   "outputs": [],
   "source": [
    "#slightly harder to separate\n",
    "X2, y2 = make_moons(n_samples = samp, noise = .75, random_state = 42)"
   ]
  },
  {
   "cell_type": "code",
   "execution_count": 4,
   "metadata": {},
   "outputs": [],
   "source": [
    "#extreme hard case\n",
    "X3, y3 = make_gaussian_quantiles(n_samples = samp, n_features=2, n_classes=2, random_state = 42)"
   ]
  },
  {
   "cell_type": "markdown",
   "metadata": {},
   "source": [
    "## Algorithm"
   ]
  },
  {
   "cell_type": "code",
   "execution_count": 5,
   "metadata": {},
   "outputs": [],
   "source": [
    "def train(X, y, bs, epochs, lr):\n",
    "    m2, n2 = X.shape\n",
    "    \n",
    "    # Initializing weights and bias to zeros.\n",
    "    w = np.zeros((n2,1))\n",
    "    b = 0\n",
    "    \n",
    "    # Reshape y.\n",
    "    y = y.reshape(m2,1)\n",
    "    \n",
    "    # Normalize inputs\n",
    "    #x = normalize(X)\n",
    "    #____________________change 1\n",
    "    m, n = X.shape\n",
    "    for i in range(n):\n",
    "        X = (X - X.mean(axis=0))/X.std(axis=0)\n",
    "    #______________________________\n",
    "    \n",
    "    \n",
    "    # Store losses\n",
    "    losses = []\n",
    "    \n",
    "    # Train\n",
    "    for epoch in range(epochs):\n",
    "        for i in range((m2-1)//bs + 1):\n",
    "            \n",
    "            # Defining batches for SGD (this can be changed)\n",
    "            start_i = i*bs\n",
    "            end_i = start_i + bs\n",
    "            xb = X[start_i:end_i]\n",
    "            yb = y[start_i:end_i]\n",
    "            \n",
    "            # Predict\n",
    "            #y_hat = sigmoid(np.dot(xb, w) + b)\n",
    "            #____________________change 4\n",
    "            y_hat =1.0/(1 + np.exp(-(np.dot(xb, w) + b)))\n",
    "            #_____________________\n",
    "            \n",
    "            \n",
    "            # Calculate gradients\n",
    "            #dw, db = gradients(xb, yb, y_hat)\n",
    "            #____________________________change 2\n",
    "            m1 = xb.shape[0]\n",
    "            # Gradient of loss w.r.t weights\n",
    "            #dw = (1/m1)*np.dot(xb.T,(y_hat - yb))\n",
    "            # Gradient of loss w.r.t bias\n",
    "            #db = (1/m1)*np.sum((y_hat - yb)) \n",
    "            #______________________________\n",
    "            # Update params\n",
    "            w -= lr*(1/m1)*np.dot(xb.T,(y_hat - yb))\n",
    "            b -= lr*(1/m1)*np.sum((y_hat - yb)) \n",
    "        \n",
    "        # Calc loss\n",
    "        #l = loss(x, y, w)\n",
    "        #_________________________change 3\n",
    "        margin = np.dot(X, w)\n",
    "        losses.append(y * -np.logaddexp(0, np.exp(margin) + (1 - y) * (1 + np.logaddexp(0, np.exp(margin)))))\n",
    "        #_________________________\n",
    "    return w, b, losses"
   ]
  },
  {
   "cell_type": "code",
   "execution_count": 6,
   "metadata": {},
   "outputs": [],
   "source": [
    "def predict(X,w,b):\n",
    "    \n",
    "    # X --> Input.\n",
    "    \n",
    "    # Normalizing the inputs.\n",
    "    #x = normalize(X)\n",
    "    #_____________________change 6\n",
    "    m, n = X.shape\n",
    "    for i in range(n):\n",
    "        X = (X - X.mean(axis=0))/X.std(axis=0)\n",
    "    #_______________________\n",
    "    \n",
    "    # Calculating presictions/y_hat.\n",
    "    #preds = sigmoid(np.dot(X, w) + b)\n",
    "    #______________________change 5\n",
    "    preds = 1.0/(1 + np.exp(-(np.dot(X, w) + b)))\n",
    "    #_______________________\n",
    "    \n",
    "    # if y_hat >= 0.5 --> round up to 1\n",
    "    # if y_hat < 0.5 --> round up to 1\n",
    "    pred_class = [1 if i > 0.5 else 0 for i in preds]\n",
    "    \n",
    "    return np.array(pred_class)"
   ]
  },
  {
   "cell_type": "code",
   "execution_count": 7,
   "metadata": {},
   "outputs": [],
   "source": [
    "def accuracy(y, y_hat):\n",
    "    accuracy = np.sum(y == y_hat) / len(y)\n",
    "    return accuracy"
   ]
  },
  {
   "cell_type": "code",
   "execution_count": 8,
   "metadata": {},
   "outputs": [],
   "source": [
    "def compare(X, y):\n",
    "    # Training \n",
    "    start1 = time.time()\n",
    "    w, b, l = train(X, y, bs=100, epochs=1000, lr=0.001)\n",
    "    pred = predict(X,w,b)\n",
    "    acc = accuracy(y, pred)\n",
    "    end1 = time.time()\n",
    "    print(f'Time to run our logistic regression: {end1 - start1} s')\n",
    "    print(f'Accuracy of our logistic regression: {acc}')\n",
    "    \n",
    "    \n",
    "    start2 = time.time()\n",
    "    lr = LogisticRegression()\n",
    "    lr.fit(X, y)\n",
    "    sk_acc = lr.score(X, y)\n",
    "    end2 = time.time()\n",
    "    print(f'Time to run Sklearn implementation {end2 - start2} s')\n",
    "    print(f'Accuracy of Sklearn implementation: {sk_acc}')\n",
    "    \n",
    "    print(f'\\nDifference in accuracies: {np.abs(acc-sk_acc)}')\n",
    "    \n",
    "    return w"
   ]
  },
  {
   "cell_type": "code",
   "execution_count": 9,
   "metadata": {},
   "outputs": [
    {
     "name": "stdout",
     "output_type": "stream",
     "text": [
      "Time to run our logistic regression: 26.51914882659912 s\n",
      "Accuracy of our logistic regression: 1.0\n",
      "Time to run Sklearn implementation 0.13305425643920898 s\n",
      "Accuracy of Sklearn implementation: 1.0\n",
      "\n",
      "Difference in accuracies: 0.0\n"
     ]
    }
   ],
   "source": [
    "w1 = compare(X1, y1)"
   ]
  },
  {
   "cell_type": "code",
   "execution_count": 11,
   "metadata": {},
   "outputs": [
    {
     "name": "stdout",
     "output_type": "stream",
     "text": [
      "Time to run our logistic regression: 33.31061625480652 s\n",
      "Accuracy of our logistic regression: 1.0\n",
      "Time to run Sklearn implementation 0.11560893058776855 s\n",
      "Accuracy of Sklearn implementation: 1.0\n",
      "\n",
      "Difference in accuracies: 0.0\n"
     ]
    }
   ],
   "source": [
    "%lprun -f compare w1 = compare(X1, y1)"
   ]
  },
  {
   "cell_type": "markdown",
   "metadata": {},
   "source": [
    "Timer unit: 1e-07 s\n",
    "\n",
    "Total time: 33.4267 s\n",
    "File: <ipython-input-8-1fde78965852>\n",
    "Function: compare at line 1\n",
    "\n",
    "Line #      Hits         Time  Per Hit   % Time  Line Contents\n",
    "==============================================================\n",
    "     1                                           def compare(X, y):\n",
    "     2                                               # Training \n",
    "     3         1         18.0     18.0      0.0      start1 = time.time()\n",
    "     4         1  331732798.0 331732798.0     99.2      w, b, l = train(X, y, bs=100, epochs=1000, lr=0.001)\n",
    "     5         1    1365596.0 1365596.0      0.4      pred = predict(X,w,b)\n",
    "     6         1       2057.0   2057.0      0.0      acc = accuracy(y, pred)\n",
    "     7         1         25.0     25.0      0.0      end1 = time.time()\n",
    "     8         1       1138.0   1138.0      0.0      print(f'Time to run our logistic regression: {end1 - start1} s')\n",
    "     9         1        219.0    219.0      0.0      print(f'Accuracy of our logistic regression: {acc}')\n",
    "    10                                               \n",
    "    11                                               \n",
    "    12         1          8.0      8.0      0.0      start2 = time.time()\n",
    "    13         1        238.0    238.0      0.0      lr = LogisticRegression()\n",
    "    14         1    1112627.0 1112627.0      0.3      lr.fit(X, y)\n",
    "    15         1      50576.0  50576.0      0.0      sk_acc = lr.score(X, y)\n",
    "    16         1         20.0     20.0      0.0      end2 = time.time()\n",
    "    17         1        751.0    751.0      0.0      print(f'Time to run Sklearn implementation {end2 - start2} s')\n",
    "    18         1        220.0    220.0      0.0      print(f'Accuracy of Sklearn implementation: {sk_acc}')\n",
    "    19                                               \n",
    "    20         1        241.0    241.0      0.0      print(f'\\nDifference in accuracies: {np.abs(acc-sk_acc)}')\n",
    "    21                                               \n",
    "    22         1          6.0      6.0      0.0      return w"
   ]
  },
  {
   "cell_type": "code",
   "execution_count": 12,
   "metadata": {},
   "outputs": [
    {
     "name": "stdout",
     "output_type": "stream",
     "text": [
      "Time to run our logistic regression: 21.972463369369507 s\n",
      "Accuracy of our logistic regression: 0.75368\n",
      "Time to run Sklearn implementation 0.03289008140563965 s\n",
      "Accuracy of Sklearn implementation: 0.75368\n",
      "\n",
      "Difference in accuracies: 0.0\n"
     ]
    }
   ],
   "source": [
    "w2 = compare(X2, y2)"
   ]
  },
  {
   "cell_type": "code",
   "execution_count": 13,
   "metadata": {},
   "outputs": [
    {
     "name": "stdout",
     "output_type": "stream",
     "text": [
      "Time to run our logistic regression: 32.77240824699402 s\n",
      "Accuracy of our logistic regression: 0.75368\n",
      "Time to run Sklearn implementation 0.04485058784484863 s\n",
      "Accuracy of Sklearn implementation: 0.75368\n",
      "\n",
      "Difference in accuracies: 0.0\n"
     ]
    }
   ],
   "source": [
    "%lprun -f compare w2 = compare(X2, y2)"
   ]
  },
  {
   "cell_type": "markdown",
   "metadata": {},
   "source": [
    "Timer unit: 1e-07 s\n",
    "\n",
    "Total time: 32.8175 s\n",
    "File: <ipython-input-8-1fde78965852>\n",
    "Function: compare at line 1\n",
    "\n",
    "Line #      Hits         Time  Per Hit   % Time  Line Contents\n",
    "==============================================================\n",
    "     1                                           def compare(X, y):\n",
    "     2                                               # Training \n",
    "     3         1         28.0     28.0      0.0      start1 = time.time()\n",
    "     4         1  326258853.0 326258853.0     99.4      w, b, l = train(X, y, bs=100, epochs=1000, lr=0.001)\n",
    "     5         1    1466862.0 1466862.0      0.4      pred = predict(X,w,b)\n",
    "     6         1       2818.0   2818.0      0.0      acc = accuracy(y, pred)\n",
    "     7         1         25.0     25.0      0.0      end1 = time.time()\n",
    "     8         1       1443.0   1443.0      0.0      print(f'Time to run our logistic regression: {end1 - start1} s')\n",
    "     9         1        254.0    254.0      0.0      print(f'Accuracy of our logistic regression: {acc}')\n",
    "    10                                               \n",
    "    11                                               \n",
    "    12         1          8.0      8.0      0.0      start2 = time.time()\n",
    "    13         1        219.0    219.0      0.0      lr = LogisticRegression()\n",
    "    14         1     367734.0 367734.0      0.1      lr.fit(X, y)\n",
    "    15         1      75070.0  75070.0      0.0      sk_acc = lr.score(X, y)\n",
    "    16         1         31.0     31.0      0.0      end2 = time.time()\n",
    "    17         1        861.0    861.0      0.0      print(f'Time to run Sklearn implementation {end2 - start2} s')\n",
    "    18         1        233.0    233.0      0.0      print(f'Accuracy of Sklearn implementation: {sk_acc}')\n",
    "    19                                               \n",
    "    20         1        264.0    264.0      0.0      print(f'\\nDifference in accuracies: {np.abs(acc-sk_acc)}')\n",
    "    21                                               \n",
    "    22         1          5.0      5.0      0.0      return w"
   ]
  },
  {
   "cell_type": "code",
   "execution_count": 14,
   "metadata": {},
   "outputs": [
    {
     "name": "stdout",
     "output_type": "stream",
     "text": [
      "Time to run our logistic regression: 21.294788122177124 s\n",
      "Accuracy of our logistic regression: 0.50117\n",
      "Time to run Sklearn implementation 0.023920059204101562 s\n",
      "Accuracy of Sklearn implementation: 0.50358\n",
      "\n",
      "Difference in accuracies: 0.0024100000000000232\n"
     ]
    }
   ],
   "source": [
    "w3 = compare(X3, y3)"
   ]
  },
  {
   "cell_type": "code",
   "execution_count": 15,
   "metadata": {},
   "outputs": [
    {
     "name": "stdout",
     "output_type": "stream",
     "text": [
      "Time to run our logistic regression: 34.31549835205078 s\n",
      "Accuracy of our logistic regression: 0.50117\n",
      "Time to run Sklearn implementation 0.030896663665771484 s\n",
      "Accuracy of Sklearn implementation: 0.50358\n",
      "\n",
      "Difference in accuracies: 0.0024100000000000232\n"
     ]
    }
   ],
   "source": [
    "%lprun -f compare w3 = compare(X3, y3)"
   ]
  },
  {
   "cell_type": "markdown",
   "metadata": {},
   "source": [
    "Timer unit: 1e-07 s\n",
    "\n",
    "Total time: 34.3466 s\n",
    "File: <ipython-input-8-1fde78965852>\n",
    "Function: compare at line 1\n",
    "\n",
    "Line #      Hits         Time  Per Hit   % Time  Line Contents\n",
    "==============================================================\n",
    "     1                                           def compare(X, y):\n",
    "     2                                               # Training \n",
    "     3         1         36.0     36.0      0.0      start1 = time.time()\n",
    "     4         1  341765201.0 341765201.0     99.5      w, b, l = train(X, y, bs=100, epochs=1000, lr=0.001)\n",
    "     5         1    1388000.0 1388000.0      0.4      pred = predict(X,w,b)\n",
    "     6         1       2111.0   2111.0      0.0      acc = accuracy(y, pred)\n",
    "     7         1         28.0     28.0      0.0      end1 = time.time()\n",
    "     8         1       1205.0   1205.0      0.0      print(f'Time to run our logistic regression: {end1 - start1} s')\n",
    "     9         1        245.0    245.0      0.0      print(f'Accuracy of our logistic regression: {acc}')\n",
    "    10                                               \n",
    "    11                                               \n",
    "    12         1          9.0      9.0      0.0      start2 = time.time()\n",
    "    13         1        364.0    364.0      0.0      lr = LogisticRegression()\n",
    "    14         1     252927.0 252927.0      0.1      lr.fit(X, y)\n",
    "    15         1      54592.0  54592.0      0.0      sk_acc = lr.score(X, y)\n",
    "    16         1         16.0     16.0      0.0      end2 = time.time()\n",
    "    17         1        736.0    736.0      0.0      print(f'Time to run Sklearn implementation {end2 - start2} s')\n",
    "    18         1        224.0    224.0      0.0      print(f'Accuracy of Sklearn implementation: {sk_acc}')\n",
    "    19                                               \n",
    "    20         1        245.0    245.0      0.0      print(f'\\nDifference in accuracies: {np.abs(acc-sk_acc)}')\n",
    "    21                                               \n",
    "    22         1          4.0      4.0      0.0      return w"
   ]
  },
  {
   "cell_type": "code",
   "execution_count": null,
   "metadata": {},
   "outputs": [],
   "source": []
  }
 ],
 "metadata": {
  "kernelspec": {
   "display_name": "Python 3",
   "language": "python",
   "name": "python3"
  },
  "language_info": {
   "codemirror_mode": {
    "name": "ipython",
    "version": 3
   },
   "file_extension": ".py",
   "mimetype": "text/x-python",
   "name": "python",
   "nbconvert_exporter": "python",
   "pygments_lexer": "ipython3",
   "version": "3.8.8"
  }
 },
 "nbformat": 4,
 "nbformat_minor": 4
}
