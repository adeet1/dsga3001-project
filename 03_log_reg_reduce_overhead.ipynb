{
 "cells": [
  {
   "cell_type": "code",
   "execution_count": 1,
   "metadata": {},
   "outputs": [],
   "source": [
    "import numpy as np\n",
    "import pandas as pd\n",
    "from sklearn.datasets import make_classification, make_gaussian_quantiles, make_moons, make_blobs\n",
    "import matplotlib.pyplot as plt\n",
    "import time\n",
    "from sklearn.linear_model import LogisticRegression\n",
    "%load_ext line_profiler"
   ]
  },
  {
   "cell_type": "code",
   "execution_count": 2,
   "metadata": {},
   "outputs": [],
   "source": [
    "#easy to separate\n",
    "samp = 100000\n",
    "X1, y1 = make_blobs(n_samples = samp, centers = 2, n_features=2, random_state=42)                                                                  "
   ]
  },
  {
   "cell_type": "code",
   "execution_count": 3,
   "metadata": {},
   "outputs": [],
   "source": [
    "#slightly harder to separate\n",
    "X2, y2 = make_moons(n_samples = samp, noise = .75, random_state = 42)"
   ]
  },
  {
   "cell_type": "code",
   "execution_count": 4,
   "metadata": {},
   "outputs": [],
   "source": [
    "#extreme hard case\n",
    "X3, y3 = make_gaussian_quantiles(n_samples = samp, n_features=2, n_classes=2, random_state = 42)"
   ]
  },
  {
   "cell_type": "markdown",
   "metadata": {},
   "source": [
    "## Algorithm"
   ]
  },
  {
   "cell_type": "code",
   "execution_count": 5,
   "metadata": {},
   "outputs": [],
   "source": [
    "def train(X, y, bs, epochs, lr):\n",
    "    m2, n2 = X.shape\n",
    "    \n",
    "    # Initializing weights and bias to zeros.\n",
    "    w = np.zeros((n2,1))\n",
    "    b = 0\n",
    "    \n",
    "    # Reshape y.\n",
    "    y = y.reshape(m2,1)\n",
    "    \n",
    "    # Normalize inputs\n",
    "    #x = normalize(X)\n",
    "    #____________________change 1\n",
    "    m, n = X.shape\n",
    "    for i in range(n):\n",
    "        X = (X - X.mean(axis=0))/X.std(axis=0)\n",
    "    #______________________________\n",
    "    \n",
    "    \n",
    "    # Store losses\n",
    "    losses = []\n",
    "    \n",
    "    # Train\n",
    "    for epoch in range(epochs):\n",
    "        for i in range((m2-1)//bs + 1):\n",
    "            \n",
    "            # Defining batches for SGD (this can be changed)\n",
    "            start_i = i*bs\n",
    "            end_i = start_i + bs\n",
    "            xb = X[start_i:end_i]\n",
    "            yb = y[start_i:end_i]\n",
    "            \n",
    "            # Predict\n",
    "            #y_hat = sigmoid(np.dot(xb, w) + b)\n",
    "            #____________________change 4\n",
    "            y_hat =1.0/(1 + np.exp(-(np.dot(xb, w) + b)))\n",
    "            #_____________________\n",
    "            \n",
    "            \n",
    "            # Calculate gradients\n",
    "            #dw, db = gradients(xb, yb, y_hat)\n",
    "            #____________________________change 2\n",
    "            m1 = xb.shape[0]\n",
    "            # Gradient of loss w.r.t weights\n",
    "            #dw = (1/m1)*np.dot(xb.T,(y_hat - yb))\n",
    "            # Gradient of loss w.r.t bias\n",
    "            #db = (1/m1)*np.sum((y_hat - yb)) \n",
    "            #______________________________\n",
    "            # Update params\n",
    "            w -= lr*(1/m1)*np.dot(xb.T,(y_hat - yb))\n",
    "            b -= lr*(1/m1)*np.sum((y_hat - yb)) \n",
    "        \n",
    "        # Calc loss\n",
    "        #l = loss(x, y, w)\n",
    "        #_________________________change 3\n",
    "        margin = np.dot(X, w)\n",
    "        losses.append(y * -np.logaddexp(0, np.exp(margin) + (1 - y) * (1 + np.logaddexp(0, np.exp(margin)))))\n",
    "        #_________________________\n",
    "    return w, b, losses"
   ]
  },
  {
   "cell_type": "code",
   "execution_count": 6,
   "metadata": {},
   "outputs": [],
   "source": [
    "def predict(X,w,b):\n",
    "    \n",
    "    # X --> Input.\n",
    "    \n",
    "    # Normalizing the inputs.\n",
    "    #x = normalize(X)\n",
    "    #_____________________change 6\n",
    "    m, n = X.shape\n",
    "    for i in range(n):\n",
    "        X = (X - X.mean(axis=0))/X.std(axis=0)\n",
    "    #_______________________\n",
    "    \n",
    "    # Calculating presictions/y_hat.\n",
    "    #preds = sigmoid(np.dot(X, w) + b)\n",
    "    #______________________change 5\n",
    "    preds = 1.0/(1 + np.exp(-(np.dot(X, w) + b)))\n",
    "    #_______________________\n",
    "    \n",
    "    # if y_hat >= 0.5 --> round up to 1\n",
    "    # if y_hat < 0.5 --> round up to 1\n",
    "    pred_class = [1 if i > 0.5 else 0 for i in preds]\n",
    "    \n",
    "    return np.array(pred_class)"
   ]
  },
  {
   "cell_type": "code",
   "execution_count": 7,
   "metadata": {},
   "outputs": [],
   "source": [
    "def accuracy(y, y_hat):\n",
    "    accuracy = np.sum(y == y_hat) / len(y)\n",
    "    return accuracy"
   ]
  },
  {
   "cell_type": "code",
   "execution_count": 8,
   "metadata": {},
   "outputs": [],
   "source": [
    "def compare(X, y):\n",
    "    # Training \n",
    "    start1 = time.time()\n",
    "    w, b, l = train(X, y, bs=100, epochs=1000, lr=0.001)\n",
    "    pred = predict(X,w,b)\n",
    "    acc = accuracy(y, pred)\n",
    "    end1 = time.time()\n",
    "    print(f'Time to run our logistic regression: {end1 - start1} s')\n",
    "    print(f'Accuracy of our logistic regression: {acc}')\n",
    "    \n",
    "    \n",
    "    start2 = time.time()\n",
    "    lr = LogisticRegression()\n",
    "    lr.fit(X, y)\n",
    "    sk_acc = lr.score(X, y)\n",
    "    end2 = time.time()\n",
    "    print(f'Time to run Sklearn implementation {end2 - start2} s')\n",
    "    print(f'Accuracy of Sklearn implementation: {sk_acc}')\n",
    "    \n",
    "    print(f'\\nDifference in accuracies: {np.abs(acc-sk_acc)}')\n",
    "    \n",
    "    return w"
   ]
  },
  {
   "cell_type": "code",
   "execution_count": 9,
   "metadata": {},
   "outputs": [
    {
     "name": "stdout",
     "output_type": "stream",
     "text": [
      "Time to run our logistic regression: 25.197702646255493 s\n",
      "Accuracy of our logistic regression: 1.0\n",
      "Time to run Sklearn implementation 0.09368681907653809 s\n",
      "Accuracy of Sklearn implementation: 1.0\n",
      "\n",
      "Difference in accuracies: 0.0\n"
     ]
    }
   ],
   "source": [
    "w1 = compare(X1, y1)"
   ]
  },
  {
   "cell_type": "code",
   "execution_count": 10,
   "metadata": {},
   "outputs": [
    {
     "name": "stdout",
     "output_type": "stream",
     "text": [
      "Time to run our logistic regression: 25.206674337387085 s\n",
      "Accuracy of our logistic regression: 0.75368\n",
      "Time to run Sklearn implementation 0.03488302230834961 s\n",
      "Accuracy of Sklearn implementation: 0.75368\n",
      "\n",
      "Difference in accuracies: 0.0\n"
     ]
    }
   ],
   "source": [
    "w2 = compare(X2, y2)"
   ]
  },
  {
   "cell_type": "code",
   "execution_count": 11,
   "metadata": {},
   "outputs": [
    {
     "name": "stdout",
     "output_type": "stream",
     "text": [
      "Time to run our logistic regression: 25.31231999397278 s\n",
      "Accuracy of our logistic regression: 0.50117\n",
      "Time to run Sklearn implementation 0.024916887283325195 s\n",
      "Accuracy of Sklearn implementation: 0.50358\n",
      "\n",
      "Difference in accuracies: 0.0024100000000000232\n"
     ]
    }
   ],
   "source": [
    "w3 = compare(X3, y3)"
   ]
  }
 ],
 "metadata": {
  "kernelspec": {
   "display_name": "Python 3",
   "language": "python",
   "name": "python3"
  },
  "language_info": {
   "codemirror_mode": {
    "name": "ipython",
    "version": 3
   },
   "file_extension": ".py",
   "mimetype": "text/x-python",
   "name": "python",
   "nbconvert_exporter": "python",
   "pygments_lexer": "ipython3",
   "version": "3.8.8"
  }
 },
 "nbformat": 4,
 "nbformat_minor": 4
}
