{
 "cells": [
  {
   "cell_type": "code",
   "execution_count": 1,
   "metadata": {},
   "outputs": [],
   "source": [
    "import numpy as np\n",
    "import pandas as pd\n",
    "from sklearn.datasets import make_classification, make_gaussian_quantiles, make_moons, make_blobs\n",
    "import matplotlib.pyplot as plt\n",
    "import time\n",
    "from sklearn.linear_model import LogisticRegression\n",
    "from logistic_regression_original import LogisticRegressionOriginal\n",
    "from logistic_regression_optimized import LogisticRegressionOptimized\n",
    "import jax.numpy as jnp"
   ]
  },
  {
   "cell_type": "markdown",
   "metadata": {},
   "source": [
    "## sklearn data"
   ]
  },
  {
   "cell_type": "code",
   "execution_count": 2,
   "metadata": {},
   "outputs": [],
   "source": [
    "#easy to separate\n",
    "samp = 100000\n",
    "X1, y1 = make_blobs(n_samples = samp, centers = 2, n_features=2, random_state=42)\n",
    "#slightly harder to separate\n",
    "X2, y2 = make_moons(n_samples = samp, noise = .75, random_state = 42)\n",
    "#extreme hard case\n",
    "X3, y3 = make_gaussian_quantiles(n_samples = samp, n_features=2, n_classes=2, random_state = 42)"
   ]
  },
  {
   "cell_type": "code",
   "execution_count": 3,
   "metadata": {},
   "outputs": [],
   "source": [
    "def compare(X, y, model_type):\n",
    "    # Training \n",
    "    \n",
    "    if model_type == 'original': \n",
    "        lr_model = LogisticRegressionOriginal(batch_size=100, max_epochs=1000, learning_rate=0.001)\n",
    "    else:\n",
    "        X, y = jnp.array(X), jnp.array(y)\n",
    "        lr_model = LogisticRegressionOptimized()\n",
    "    start1 = time.time()\n",
    "    lr_model.train(X, y)\n",
    "    pred = lr_model.predict(X)\n",
    "    acc = lr_model.accuracy(y, pred)\n",
    "    end1 = time.time()\n",
    "    print(f'Time to run our logistic regression: {end1 - start1} s')\n",
    "    print(f'Accuracy of our logistic regression: {acc}')\n",
    "    \n",
    "    \n",
    "    lr = LogisticRegression(penalty='none')\n",
    "    start2 = time.time()\n",
    "    lr.fit(X, y)\n",
    "    sk_pred = lr.predict(X)\n",
    "    sk_acc = lr_model.accuracy(y, sk_pred)\n",
    "    end2 = time.time()\n",
    "    print(f'Time to run Sklearn implementation {end2 - start2} s')\n",
    "    print(f'Accuracy of Sklearn implementation: {sk_acc}')\n",
    "    \n",
    "    print(f'\\nDifference in accuracies: {np.abs(acc-sk_acc)}')\n",
    "    \n",
    "    return lr_model.get_weights()"
   ]
  },
  {
   "cell_type": "code",
   "execution_count": 4,
   "metadata": {
    "scrolled": true
   },
   "outputs": [
    {
     "name": "stdout",
     "output_type": "stream",
     "text": [
      "Time to run our logistic regression: 439.8911409378052 s\n",
      "Accuracy of our logistic regression: 1.0\n",
      "Time to run Sklearn implementation 0.3517172336578369 s\n",
      "Accuracy of Sklearn implementation: 1.0\n",
      "\n",
      "Difference in accuracies: 0.0\n"
     ]
    }
   ],
   "source": [
    "w1 = compare(X1, y1, 'original')"
   ]
  },
  {
   "cell_type": "code",
   "execution_count": 5,
   "metadata": {},
   "outputs": [
    {
     "name": "stdout",
     "output_type": "stream",
     "text": [
      "Time to run our logistic regression: 438.25348114967346 s\n",
      "Accuracy of our logistic regression: 0.75368\n",
      "Time to run Sklearn implementation 0.24567890167236328 s\n",
      "Accuracy of Sklearn implementation: 0.75368\n",
      "\n",
      "Difference in accuracies: 0.0\n"
     ]
    }
   ],
   "source": [
    "w2 = compare(X2, y2, 'original')"
   ]
  },
  {
   "cell_type": "code",
   "execution_count": 6,
   "metadata": {},
   "outputs": [
    {
     "name": "stdout",
     "output_type": "stream",
     "text": [
      "Time to run our logistic regression: 456.31605792045593 s\n",
      "Accuracy of our logistic regression: 0.50117\n",
      "Time to run Sklearn implementation 0.2382059097290039 s\n",
      "Accuracy of Sklearn implementation: 0.50358\n",
      "\n",
      "Difference in accuracies: 0.0024100000000000232\n"
     ]
    }
   ],
   "source": [
    "w3 = compare(X3, y3, 'original')"
   ]
  },
  {
   "cell_type": "code",
   "execution_count": 7,
   "metadata": {},
   "outputs": [
    {
     "name": "stderr",
     "output_type": "stream",
     "text": [
      "WARNING:absl:No GPU/TPU found, falling back to CPU. (Set TF_CPP_MIN_LOG_LEVEL=0 and rerun for more info.)\n"
     ]
    },
    {
     "name": "stdout",
     "output_type": "stream",
     "text": [
      "Optimization terminated successfully.\n",
      "         Current function value: 0.000084\n",
      "         Iterations: 24\n",
      "         Function evaluations: 24\n",
      "         Gradient evaluations: 24\n",
      "         Hessian evaluations: 24\n",
      "Time to run our logistic regression: 1.1751070022583008 s\n",
      "Accuracy of our logistic regression: 1.0\n",
      "Time to run Sklearn implementation 0.14775967597961426 s\n",
      "Accuracy of Sklearn implementation: 1.0\n",
      "\n",
      "Difference in accuracies: 0.0\n"
     ]
    }
   ],
   "source": [
    "w4 = compare(X1, y1, 'optimized')"
   ]
  },
  {
   "cell_type": "code",
   "execution_count": 8,
   "metadata": {},
   "outputs": [
    {
     "name": "stdout",
     "output_type": "stream",
     "text": [
      "Optimization terminated successfully.\n",
      "         Current function value: 50571.476562\n",
      "         Iterations: 5\n",
      "         Function evaluations: 13\n",
      "         Gradient evaluations: 13\n",
      "         Hessian evaluations: 5\n",
      "Time to run our logistic regression: 0.6658849716186523 s\n",
      "Accuracy of our logistic regression: 0.7536900043487549\n",
      "Time to run Sklearn implementation 0.039034128189086914 s\n",
      "Accuracy of Sklearn implementation: 0.7536799907684326\n",
      "\n",
      "Difference in accuracies: 1.0013580322265625e-05\n"
     ]
    }
   ],
   "source": [
    "w5 = compare(X2, y2, 'optimized')"
   ]
  },
  {
   "cell_type": "code",
   "execution_count": 9,
   "metadata": {},
   "outputs": [
    {
     "name": "stdout",
     "output_type": "stream",
     "text": [
      "Optimization terminated successfully.\n",
      "         Current function value: 69312.359375\n",
      "         Iterations: 3\n",
      "         Function evaluations: 4\n",
      "         Gradient evaluations: 4\n",
      "         Hessian evaluations: 3\n",
      "Time to run our logistic regression: 0.647352933883667 s\n",
      "Accuracy of our logistic regression: 0.5035799741744995\n",
      "Time to run Sklearn implementation 0.025961875915527344 s\n",
      "Accuracy of Sklearn implementation: 0.5035799741744995\n",
      "\n",
      "Difference in accuracies: 0.0\n"
     ]
    }
   ],
   "source": [
    "w6 = compare(X3, y3, 'optimized')"
   ]
  },
  {
   "cell_type": "markdown",
   "metadata": {},
   "source": [
    "w1 = compare(X1, y1, 'original')\n",
    "# w1 = compare(X1, y1, 'original')\n",
    "Time to run our logistic regression: 504.76238799095154 s\n",
    "Accuracy of our logistic regression: 1.0\n",
    "Time to run Sklearn implementation 0.3529651165008545 s\n",
    "Accuracy of Sklearn implementation: 1.0\n",
    "\n",
    "Difference in accuracies: 0.0\n",
    "w2 = compare(X2, y2, 'original')\n",
    "# w2 = compare(X2, y2, 'original')\n",
    "Time to run our logistic regression: 492.10879278182983 s\n",
    "Accuracy of our logistic regression: 0.75368\n",
    "Time to run Sklearn implementation 0.2412738800048828 s\n",
    "Accuracy of Sklearn implementation: 0.75368\n",
    "\n",
    "Difference in accuracies: 0.0\n",
    "w3 = compare(X3, y3, 'original')\n",
    "# w3 = compare(X3, y3, 'original')\n",
    "Time to run our logistic regression: 482.60274934768677 s\n",
    "Accuracy of our logistic regression: 0.50117\n",
    "Time to run Sklearn implementation 0.23366093635559082 s\n",
    "Accuracy of Sklearn implementation: 0.50358\n",
    "\n",
    "Difference in accuracies: 0.0024100000000000232"
   ]
  }
 ],
 "metadata": {
  "kernelspec": {
   "display_name": "Python 3 (ipykernel)",
   "language": "python",
   "name": "python3"
  },
  "language_info": {
   "codemirror_mode": {
    "name": "ipython",
    "version": 3
   },
   "file_extension": ".py",
   "mimetype": "text/x-python",
   "name": "python",
   "nbconvert_exporter": "python",
   "pygments_lexer": "ipython3",
   "version": "3.9.1"
  }
 },
 "nbformat": 4,
 "nbformat_minor": 4
}
